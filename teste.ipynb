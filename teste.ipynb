{
 "cells": [
  {
   "cell_type": "code",
   "execution_count": 1,
   "metadata": {},
   "outputs": [],
   "source": [
    "import socket\n",
    "import struct\n",
    "import json\n",
    "\n",
    "def authreq(sag):\n",
    "    #ENVIO\n",
    "    entrada = json.dumps({\"type\": \"authreq\", \"auth\": sag}).encode('utf-8')\n",
    "    client.sendto(entrada, RIVER[c])\n",
    "        \n",
    "    #RESPOSTA\n",
    "    saida = client.recv(bufferSize, 0)\n",
    "    resposta = json.loads(saida.decode('utf-8'))\n",
    "    print(resposta)"
   ]
  },
  {
   "cell_type": "code",
   "execution_count": 2,
   "metadata": {},
   "outputs": [
    {
     "name": "stdout",
     "output_type": "stream",
     "text": [
      "{'type': 'authresp', 'status': 0, 'river': 1, 'auth': '2019057195:12142021:713956ac462e3cc9736660c44697d3b6d91ffbe60ee2911114890582c2435f72+2019056890:12142021:d4ae8849f0d2f8ccf163b12a3fcf45908b61c8f2239f3806fe6292f3428a37ce+3933183216bb827a7cdca38687047dd1a191952b1afb1a01bcfd92ade29ae224'}\n",
      "{'type': 'authresp', 'status': 0, 'river': 2, 'auth': '2019057195:12142021:713956ac462e3cc9736660c44697d3b6d91ffbe60ee2911114890582c2435f72+2019056890:12142021:d4ae8849f0d2f8ccf163b12a3fcf45908b61c8f2239f3806fe6292f3428a37ce+3933183216bb827a7cdca38687047dd1a191952b1afb1a01bcfd92ade29ae224'}\n",
      "{'type': 'authresp', 'status': 0, 'river': 3, 'auth': '2019057195:12142021:713956ac462e3cc9736660c44697d3b6d91ffbe60ee2911114890582c2435f72+2019056890:12142021:d4ae8849f0d2f8ccf163b12a3fcf45908b61c8f2239f3806fe6292f3428a37ce+3933183216bb827a7cdca38687047dd1a191952b1afb1a01bcfd92ade29ae224'}\n",
      "{'type': 'authresp', 'status': 0, 'river': 4, 'auth': '2019057195:12142021:713956ac462e3cc9736660c44697d3b6d91ffbe60ee2911114890582c2435f72+2019056890:12142021:d4ae8849f0d2f8ccf163b12a3fcf45908b61c8f2239f3806fe6292f3428a37ce+3933183216bb827a7cdca38687047dd1a191952b1afb1a01bcfd92ade29ae224'}\n"
     ]
    }
   ],
   "source": [
    "#DEFININDO AS ESPECIFICAÇÕES DO SERVIDOR E PEGANDO AS INFORMAÇÕES DO TECLADO\n",
    "bufferSize = 4096\n",
    "RIVER = [0,0,0,0]\n",
    "for c in range(0,4):\n",
    "    entrada = input('Digite sua entrada: ')\n",
    "    dados = entrada.split(' ')\n",
    "    SERVER = dados[0]\n",
    "    PORT = int(dados[1])\n",
    "    SAG = '2019057195:12142021:713956ac462e3cc9736660c44697d3b6d91ffbe60ee2911114890582c2435f72+2019056890:12142021:d4ae8849f0d2f8ccf163b12a3fcf45908b61c8f2239f3806fe6292f3428a37ce+3933183216bb827a7cdca38687047dd1a191952b1afb1a01bcfd92ade29ae224'\n",
    "    if PORT == 52221:\n",
    "        RIVER[c]=(SERVER, PORT)\n",
    "    elif PORT == 52222:\n",
    "        RIVER[c]=(SERVER, PORT)\n",
    "    elif PORT == 52223:\n",
    "        RIVER[c]=(SERVER, PORT)\n",
    "    elif PORT == 52224:\n",
    "        RIVER[c]=(SERVER, PORT)\n",
    "    else:\n",
    "        print('Falha na escolha da porta!')\n",
    "        exit()\n",
    "    client = socket.socket(socket.AF_INET, socket.SOCK_DGRAM)\n",
    "    client.connect(RIVER[c])    \n",
    "    authreq(SAG)"
   ]
  }
 ],
 "metadata": {
  "interpreter": {
   "hash": "20099c77346fa184342f5a0e1dc2579955983be62f07a7f263c863d4bded7e85"
  },
  "kernelspec": {
   "display_name": "Python 3.10.1 64-bit (windows store)",
   "language": "python",
   "name": "python3"
  },
  "language_info": {
   "codemirror_mode": {
    "name": "ipython",
    "version": 3
   },
   "file_extension": ".py",
   "mimetype": "text/x-python",
   "name": "python",
   "nbconvert_exporter": "python",
   "pygments_lexer": "ipython3",
   "version": "3.10.1"
  },
  "orig_nbformat": 4
 },
 "nbformat": 4,
 "nbformat_minor": 2
}
