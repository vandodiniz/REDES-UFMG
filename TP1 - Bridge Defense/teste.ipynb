{
 "cells": [
  {
   "cell_type": "code",
   "execution_count": 13,
   "metadata": {},
   "outputs": [],
   "source": [
    "import socket\n",
    "import struct\n",
    "import json\n",
    "\n",
    "def authreq(sag):\n",
    "    #ENVIO\n",
    "    entrada = json.dumps({\"type\": \"authreq\", \"auth\": sag}).encode('utf-8')\n",
    "    client.sendto(entrada, RIVER[c])\n",
    "        \n",
    "    #RESPOSTA\n",
    "    try:\n",
    "        saida = client.recv(bufferSize, 0)\n",
    "        resposta = json.loads(saida.decode('utf-8'))\n",
    "        print(resposta)\n",
    "        return 0\n",
    "    except:\n",
    "        print('Erro de transmissão')\n",
    "        return 1\n",
    "\n",
    "def quit(sag):\n",
    "    #ENVIO\n",
    "    entrada = json.dumps({\"type\": \"authreq\", \"auth\": sag}).encode('utf-8')\n",
    "    client.sendto(entrada, RIVER[0])\n",
    "    print('Jogo finalizado com sucesso!')\n",
    "        "
   ]
  },
  {
   "cell_type": "code",
   "execution_count": 14,
   "metadata": {},
   "outputs": [
    {
     "name": "stdout",
     "output_type": "stream",
     "text": [
      "{'type': 'authresp', 'status': 0, 'river': 1, 'auth': '2019057195:12142021:713956ac462e3cc9736660c44697d3b6d91ffbe60ee2911114890582c2435f72+2019056890:12142021:d4ae8849f0d2f8ccf163b12a3fcf45908b61c8f2239f3806fe6292f3428a37ce+3933183216bb827a7cdca38687047dd1a191952b1afb1a01bcfd92ade29ae224'}\n",
      "{'type': 'authresp', 'status': 0, 'river': 2, 'auth': '2019057195:12142021:713956ac462e3cc9736660c44697d3b6d91ffbe60ee2911114890582c2435f72+2019056890:12142021:d4ae8849f0d2f8ccf163b12a3fcf45908b61c8f2239f3806fe6292f3428a37ce+3933183216bb827a7cdca38687047dd1a191952b1afb1a01bcfd92ade29ae224'}\n",
      "{'type': 'authresp', 'status': 0, 'river': 3, 'auth': '2019057195:12142021:713956ac462e3cc9736660c44697d3b6d91ffbe60ee2911114890582c2435f72+2019056890:12142021:d4ae8849f0d2f8ccf163b12a3fcf45908b61c8f2239f3806fe6292f3428a37ce+3933183216bb827a7cdca38687047dd1a191952b1afb1a01bcfd92ade29ae224'}\n",
      "{'type': 'authresp', 'status': 0, 'river': 4, 'auth': '2019057195:12142021:713956ac462e3cc9736660c44697d3b6d91ffbe60ee2911114890582c2435f72+2019056890:12142021:d4ae8849f0d2f8ccf163b12a3fcf45908b61c8f2239f3806fe6292f3428a37ce+3933183216bb827a7cdca38687047dd1a191952b1afb1a01bcfd92ade29ae224'}\n",
      "Jogo finalizado com sucesso!\n"
     ]
    }
   ],
   "source": [
    "#DEFININDO AS ESPECIFICAÇÕES DO SERVIDOR E PEGANDO AS INFORMAÇÕES DO TECLADO\n",
    "bufferSize = 4096\n",
    "RIVER = [0,0,0,0]\n",
    "VALID_PORTS = [52221,52222,52223,52224]\n",
    "VALID_SERVER = 'bd20212.dcc023.2advanced.dev'\n",
    "\n",
    "client = socket.socket(socket.AF_INET, socket.SOCK_DGRAM)\n",
    "\n",
    "for c in range(0,4):\n",
    "    entrada = input('Digite sua entrada: ')\n",
    "    dados = entrada.split(' ')\n",
    "    SERVER = dados[0]\n",
    "    PORT = int(dados[1])\n",
    "    SAG = '2019057195:12142021:713956ac462e3cc9736660c44697d3b6d91ffbe60ee2911114890582c2435f72+2019056890:12142021:d4ae8849f0d2f8ccf163b12a3fcf45908b61c8f2239f3806fe6292f3428a37ce+3933183216bb827a7cdca38687047dd1a191952b1afb1a01bcfd92ade29ae224'\n",
    "    \n",
    "    while SERVER != VALID_SERVER:\n",
    "        entrada = input('Server inválidado! Digite novamente: ')\n",
    "        dados = entrada.split(' ')\n",
    "        SERVER = dados[0]\n",
    "        \n",
    "    while PORT not in VALID_PORTS:\n",
    "        entrada = input('Porta inválidada! Digite novamente: ')\n",
    "        dados = entrada.split(' ')\n",
    "        PORT = int(dados[1])\n",
    "\n",
    "    if PORT == VALID_PORTS[0]:\n",
    "        RIVER[c]=(SERVER, PORT)\n",
    "    elif PORT == VALID_PORTS[1]:\n",
    "        RIVER[c]=(SERVER, PORT)\n",
    "    elif PORT == VALID_PORTS[2]:\n",
    "        RIVER[c]=(SERVER, PORT)\n",
    "    elif PORT == VALID_PORTS[3]:\n",
    "        RIVER[c]=(SERVER, PORT)\n",
    "\n",
    "    try:\n",
    "        client.connect(RIVER[c])   \n",
    "        client.settimeout(3)\n",
    "    except:\n",
    "        print('Erro ao conectar com o servidor! Finalizando o programa')\n",
    "        client.close()\n",
    "\n",
    "    auth = authreq(SAG)\n",
    "    while auth == 1:\n",
    "        auth = authreq(SAG)\n",
    "\n",
    "quit(SAG)\n",
    "\n",
    "client.close()\n",
    "\n",
    "    "
   ]
  }
 ],
 "metadata": {
  "interpreter": {
   "hash": "20099c77346fa184342f5a0e1dc2579955983be62f07a7f263c863d4bded7e85"
  },
  "kernelspec": {
   "display_name": "Python 3.10.1 64-bit (windows store)",
   "language": "python",
   "name": "python3"
  },
  "language_info": {
   "codemirror_mode": {
    "name": "ipython",
    "version": 3
   },
   "file_extension": ".py",
   "mimetype": "text/x-python",
   "name": "python",
   "nbconvert_exporter": "python",
   "pygments_lexer": "ipython3",
   "version": "3.10.1"
  },
  "orig_nbformat": 4
 },
 "nbformat": 4,
 "nbformat_minor": 2
}
